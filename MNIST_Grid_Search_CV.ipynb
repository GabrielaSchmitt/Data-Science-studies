{
  "nbformat": 4,
  "nbformat_minor": 0,
  "metadata": {
    "colab": {
      "provenance": [],
      "include_colab_link": true
    },
    "kernelspec": {
      "name": "python3",
      "display_name": "Python 3"
    }
  },
  "cells": [
    {
      "cell_type": "markdown",
      "metadata": {
        "id": "view-in-github",
        "colab_type": "text"
      },
      "source": [
        "<a href=\"https://colab.research.google.com/github/GabrielaSchmitt/Data-Science-studies/blob/main/MNIST_Grid_Search_CV.ipynb\" target=\"_parent\"><img src=\"https://colab.research.google.com/assets/colab-badge.svg\" alt=\"Open In Colab\"/></a>"
      ]
    },
    {
      "cell_type": "code",
      "metadata": {
        "id": "dR7CLBwx06B5"
      },
      "source": [
        "import matplotlib.pyplot as plt\n",
        "from sklearn import datasets"
      ],
      "execution_count": 1,
      "outputs": []
    },
    {
      "cell_type": "code",
      "metadata": {
        "id": "1CH6ENHW1BFR"
      },
      "source": [
        "digits = datasets.load_digits()"
      ],
      "execution_count": 2,
      "outputs": []
    },
    {
      "cell_type": "code",
      "metadata": {
        "id": "ZghLv9eS54-C"
      },
      "source": [
        "X, y = digits.data, digits.target"
      ],
      "execution_count": 3,
      "outputs": []
    },
    {
      "cell_type": "code",
      "metadata": {
        "id": "0CYPBuDS1Hl0"
      },
      "source": [
        "from sklearn.ensemble import RandomForestClassifier\n",
        "from sklearn.model_selection import train_test_split, GridSearchCV\n",
        "from sklearn.metrics import accuracy_score, confusion_matrix, precision_score, recall_score, f1_score"
      ],
      "execution_count": 4,
      "outputs": []
    },
    {
      "cell_type": "code",
      "metadata": {
        "id": "U8cuqfgd8IU7",
        "outputId": "30e621fc-1d38-463e-d1ba-23df19409351",
        "colab": {
          "base_uri": "https://localhost:8080/"
        }
      },
      "source": [
        "X"
      ],
      "execution_count": 5,
      "outputs": [
        {
          "output_type": "execute_result",
          "data": {
            "text/plain": [
              "array([[ 0.,  0.,  5., ...,  0.,  0.,  0.],\n",
              "       [ 0.,  0.,  0., ..., 10.,  0.,  0.],\n",
              "       [ 0.,  0.,  0., ..., 16.,  9.,  0.],\n",
              "       ...,\n",
              "       [ 0.,  0.,  1., ...,  6.,  0.,  0.],\n",
              "       [ 0.,  0.,  2., ..., 12.,  0.,  0.],\n",
              "       [ 0.,  0., 10., ..., 12.,  1.,  0.]])"
            ]
          },
          "metadata": {},
          "execution_count": 5
        }
      ]
    },
    {
      "cell_type": "code",
      "metadata": {
        "id": "ZoKhRERB75Te"
      },
      "source": [
        "X_train, X_test, y_train, y_test = train_test_split(X, y, test_size=0.3, random_state=1234)"
      ],
      "execution_count": 6,
      "outputs": []
    },
    {
      "cell_type": "code",
      "metadata": {
        "id": "bUjTFJ06s-EO"
      },
      "source": [
        "params = {\n",
        "    'max_depth': range(6, 10),\n",
        "    'n_estimators': range(50, 100, 25)\n",
        "}\n",
        "\n",
        "grid = GridSearchCV(RandomForestClassifier(), params, scoring='f1_macro', cv=10, verbose=9)"
      ],
      "execution_count": 7,
      "outputs": []
    },
    {
      "cell_type": "code",
      "metadata": {
        "colab": {
          "base_uri": "https://localhost:8080/"
        },
        "id": "LYeiBWeL8f4G",
        "outputId": "98d095d9-6354-430c-f8dd-aeba426031b5"
      },
      "source": [
        "clf = grid.fit(X_train, y_train)"
      ],
      "execution_count": 8,
      "outputs": [
        {
          "output_type": "stream",
          "name": "stdout",
          "text": [
            "Fitting 10 folds for each of 8 candidates, totalling 80 fits\n",
            "[CV 1/10] END .....max_depth=6, n_estimators=50;, score=0.930 total time=   0.2s\n",
            "[CV 2/10] END .....max_depth=6, n_estimators=50;, score=0.960 total time=   0.3s\n",
            "[CV 3/10] END .....max_depth=6, n_estimators=50;, score=0.952 total time=   0.5s\n",
            "[CV 4/10] END .....max_depth=6, n_estimators=50;, score=0.976 total time=   0.4s\n",
            "[CV 5/10] END .....max_depth=6, n_estimators=50;, score=0.928 total time=   0.3s\n",
            "[CV 6/10] END .....max_depth=6, n_estimators=50;, score=0.937 total time=   0.2s\n",
            "[CV 7/10] END .....max_depth=6, n_estimators=50;, score=0.992 total time=   0.2s\n",
            "[CV 8/10] END .....max_depth=6, n_estimators=50;, score=0.968 total time=   0.3s\n",
            "[CV 9/10] END .....max_depth=6, n_estimators=50;, score=0.943 total time=   0.2s\n",
            "[CV 10/10] END ....max_depth=6, n_estimators=50;, score=0.960 total time=   0.2s\n",
            "[CV 1/10] END .....max_depth=6, n_estimators=75;, score=0.945 total time=   0.3s\n",
            "[CV 2/10] END .....max_depth=6, n_estimators=75;, score=0.960 total time=   0.3s\n",
            "[CV 3/10] END .....max_depth=6, n_estimators=75;, score=0.936 total time=   0.3s\n",
            "[CV 4/10] END .....max_depth=6, n_estimators=75;, score=0.985 total time=   0.3s\n",
            "[CV 5/10] END .....max_depth=6, n_estimators=75;, score=0.936 total time=   0.3s\n",
            "[CV 6/10] END .....max_depth=6, n_estimators=75;, score=0.954 total time=   0.3s\n",
            "[CV 7/10] END .....max_depth=6, n_estimators=75;, score=0.976 total time=   0.3s\n",
            "[CV 8/10] END .....max_depth=6, n_estimators=75;, score=0.968 total time=   0.4s\n",
            "[CV 9/10] END .....max_depth=6, n_estimators=75;, score=0.918 total time=   0.5s\n",
            "[CV 10/10] END ....max_depth=6, n_estimators=75;, score=0.967 total time=   0.5s\n",
            "[CV 1/10] END .....max_depth=7, n_estimators=50;, score=0.953 total time=   0.2s\n",
            "[CV 2/10] END .....max_depth=7, n_estimators=50;, score=0.960 total time=   0.5s\n",
            "[CV 3/10] END .....max_depth=7, n_estimators=50;, score=0.968 total time=   0.3s\n",
            "[CV 4/10] END .....max_depth=7, n_estimators=50;, score=0.976 total time=   0.3s\n",
            "[CV 5/10] END .....max_depth=7, n_estimators=50;, score=0.936 total time=   0.2s\n",
            "[CV 6/10] END .....max_depth=7, n_estimators=50;, score=0.937 total time=   0.6s\n",
            "[CV 7/10] END .....max_depth=7, n_estimators=50;, score=0.992 total time=   0.4s\n",
            "[CV 8/10] END .....max_depth=7, n_estimators=50;, score=0.968 total time=   0.6s\n",
            "[CV 9/10] END .....max_depth=7, n_estimators=50;, score=0.950 total time=   0.6s\n",
            "[CV 10/10] END ....max_depth=7, n_estimators=50;, score=0.967 total time=   0.4s\n",
            "[CV 1/10] END .....max_depth=7, n_estimators=75;, score=0.952 total time=   0.7s\n",
            "[CV 2/10] END .....max_depth=7, n_estimators=75;, score=0.960 total time=   0.8s\n",
            "[CV 3/10] END .....max_depth=7, n_estimators=75;, score=0.967 total time=   0.4s\n",
            "[CV 4/10] END .....max_depth=7, n_estimators=75;, score=0.984 total time=   0.5s\n",
            "[CV 5/10] END .....max_depth=7, n_estimators=75;, score=0.937 total time=   0.4s\n",
            "[CV 6/10] END .....max_depth=7, n_estimators=75;, score=0.953 total time=   0.5s\n",
            "[CV 7/10] END .....max_depth=7, n_estimators=75;, score=0.984 total time=   1.0s\n",
            "[CV 8/10] END .....max_depth=7, n_estimators=75;, score=0.984 total time=   0.8s\n",
            "[CV 9/10] END .....max_depth=7, n_estimators=75;, score=0.943 total time=   1.0s\n",
            "[CV 10/10] END ....max_depth=7, n_estimators=75;, score=0.960 total time=   0.9s\n",
            "[CV 1/10] END .....max_depth=8, n_estimators=50;, score=0.953 total time=   0.3s\n",
            "[CV 2/10] END .....max_depth=8, n_estimators=50;, score=0.961 total time=   0.4s\n",
            "[CV 3/10] END .....max_depth=8, n_estimators=50;, score=0.960 total time=   0.4s\n",
            "[CV 4/10] END .....max_depth=8, n_estimators=50;, score=1.000 total time=   0.5s\n",
            "[CV 5/10] END .....max_depth=8, n_estimators=50;, score=0.945 total time=   0.4s\n",
            "[CV 6/10] END .....max_depth=8, n_estimators=50;, score=0.961 total time=   0.4s\n",
            "[CV 7/10] END .....max_depth=8, n_estimators=50;, score=0.992 total time=   0.3s\n",
            "[CV 8/10] END .....max_depth=8, n_estimators=50;, score=0.968 total time=   0.3s\n",
            "[CV 9/10] END .....max_depth=8, n_estimators=50;, score=0.943 total time=   0.2s\n",
            "[CV 10/10] END ....max_depth=8, n_estimators=50;, score=0.983 total time=   0.3s\n",
            "[CV 1/10] END .....max_depth=8, n_estimators=75;, score=0.945 total time=   0.5s\n",
            "[CV 2/10] END .....max_depth=8, n_estimators=75;, score=0.968 total time=   0.4s\n",
            "[CV 3/10] END .....max_depth=8, n_estimators=75;, score=0.936 total time=   0.4s\n",
            "[CV 4/10] END .....max_depth=8, n_estimators=75;, score=0.984 total time=   0.4s\n",
            "[CV 5/10] END .....max_depth=8, n_estimators=75;, score=0.944 total time=   0.6s\n",
            "[CV 6/10] END .....max_depth=8, n_estimators=75;, score=0.961 total time=   0.5s\n",
            "[CV 7/10] END .....max_depth=8, n_estimators=75;, score=0.992 total time=   0.5s\n",
            "[CV 8/10] END .....max_depth=8, n_estimators=75;, score=0.968 total time=   0.2s\n",
            "[CV 9/10] END .....max_depth=8, n_estimators=75;, score=0.935 total time=   0.2s\n",
            "[CV 10/10] END ....max_depth=8, n_estimators=75;, score=0.961 total time=   0.2s\n",
            "[CV 1/10] END .....max_depth=9, n_estimators=50;, score=0.968 total time=   0.1s\n",
            "[CV 2/10] END .....max_depth=9, n_estimators=50;, score=0.984 total time=   0.1s\n",
            "[CV 3/10] END .....max_depth=9, n_estimators=50;, score=0.952 total time=   0.2s\n",
            "[CV 4/10] END .....max_depth=9, n_estimators=50;, score=1.000 total time=   0.1s\n",
            "[CV 5/10] END .....max_depth=9, n_estimators=50;, score=0.936 total time=   0.1s\n",
            "[CV 6/10] END .....max_depth=9, n_estimators=50;, score=0.961 total time=   0.1s\n",
            "[CV 7/10] END .....max_depth=9, n_estimators=50;, score=0.992 total time=   0.1s\n",
            "[CV 8/10] END .....max_depth=9, n_estimators=50;, score=0.976 total time=   0.1s\n",
            "[CV 9/10] END .....max_depth=9, n_estimators=50;, score=0.943 total time=   0.1s\n",
            "[CV 10/10] END ....max_depth=9, n_estimators=50;, score=0.968 total time=   0.2s\n",
            "[CV 1/10] END .....max_depth=9, n_estimators=75;, score=0.944 total time=   0.2s\n",
            "[CV 2/10] END .....max_depth=9, n_estimators=75;, score=0.968 total time=   0.2s\n",
            "[CV 3/10] END .....max_depth=9, n_estimators=75;, score=0.961 total time=   0.2s\n",
            "[CV 4/10] END .....max_depth=9, n_estimators=75;, score=0.984 total time=   0.2s\n",
            "[CV 5/10] END .....max_depth=9, n_estimators=75;, score=0.937 total time=   0.3s\n",
            "[CV 6/10] END .....max_depth=9, n_estimators=75;, score=0.961 total time=   0.3s\n",
            "[CV 7/10] END .....max_depth=9, n_estimators=75;, score=0.992 total time=   0.3s\n",
            "[CV 8/10] END .....max_depth=9, n_estimators=75;, score=0.976 total time=   0.4s\n",
            "[CV 9/10] END .....max_depth=9, n_estimators=75;, score=0.950 total time=   0.4s\n",
            "[CV 10/10] END ....max_depth=9, n_estimators=75;, score=0.976 total time=   0.3s\n"
          ]
        }
      ]
    },
    {
      "cell_type": "code",
      "metadata": {
        "id": "DirgXALn6R3z"
      },
      "source": [
        "y_pred = clf.predict(X_test)"
      ],
      "execution_count": 9,
      "outputs": []
    },
    {
      "cell_type": "code",
      "metadata": {
        "id": "P20f6-qJ7SxF",
        "colab": {
          "base_uri": "https://localhost:8080/"
        },
        "outputId": "b7acfbaa-c2b6-48db-f78e-e76f82a5ca8d"
      },
      "source": [
        "accuracy_score(y_test, y_pred)"
      ],
      "execution_count": 10,
      "outputs": [
        {
          "output_type": "execute_result",
          "data": {
            "text/plain": [
              "0.9518518518518518"
            ]
          },
          "metadata": {},
          "execution_count": 10
        }
      ]
    },
    {
      "cell_type": "code",
      "metadata": {
        "id": "fzvha16Svg21",
        "colab": {
          "base_uri": "https://localhost:8080/"
        },
        "outputId": "5cd32b1f-96a2-40b5-de9d-00a60b812556"
      },
      "source": [
        "confusion_matrix(y_test, y_pred)"
      ],
      "execution_count": 11,
      "outputs": [
        {
          "output_type": "execute_result",
          "data": {
            "text/plain": [
              "array([[47,  0,  0,  0,  0,  0,  0,  0,  0,  0],\n",
              "       [ 0, 56,  0,  0,  0,  0,  0,  0,  0,  0],\n",
              "       [ 0,  0, 54,  0,  0,  0,  0,  0,  0,  0],\n",
              "       [ 0,  0,  0, 55,  0,  0,  0,  0,  0,  1],\n",
              "       [ 1,  0,  0,  0, 62,  0,  1,  2,  0,  0],\n",
              "       [ 0,  0,  0,  0,  1, 55,  1,  0,  0,  4],\n",
              "       [ 0,  1,  0,  0,  0,  0, 50,  0,  1,  0],\n",
              "       [ 0,  0,  0,  0,  0,  0,  0, 50,  0,  0],\n",
              "       [ 0,  3,  2,  0,  0,  0,  0,  0, 41,  1],\n",
              "       [ 0,  0,  0,  0,  0,  1,  0,  5,  1, 44]])"
            ]
          },
          "metadata": {},
          "execution_count": 11
        }
      ]
    },
    {
      "cell_type": "code",
      "metadata": {
        "id": "YVZuohBNVBaX",
        "colab": {
          "base_uri": "https://localhost:8080/"
        },
        "outputId": "58244fb1-b367-47c6-de94-6231a0dc65a8"
      },
      "source": [
        "f1_score(y_test, y_pred, average='macro')"
      ],
      "execution_count": 12,
      "outputs": [
        {
          "output_type": "execute_result",
          "data": {
            "text/plain": [
              "0.950772748926225"
            ]
          },
          "metadata": {},
          "execution_count": 12
        }
      ]
    },
    {
      "cell_type": "code",
      "metadata": {
        "colab": {
          "base_uri": "https://localhost:8080/"
        },
        "id": "QSCkMZPMCx81",
        "outputId": "01f38a08-5cad-4d1e-bf37-ab7ed560e0a2"
      },
      "source": [
        "clf.best_estimator_"
      ],
      "execution_count": 13,
      "outputs": [
        {
          "output_type": "execute_result",
          "data": {
            "text/plain": [
              "RandomForestClassifier(max_depth=9, n_estimators=50)"
            ]
          },
          "metadata": {},
          "execution_count": 13
        }
      ]
    },
    {
      "cell_type": "code",
      "metadata": {
        "colab": {
          "base_uri": "https://localhost:8080/"
        },
        "id": "CypqwiyMC6e4",
        "outputId": "c7ec315f-8cdb-48d0-e477-fdb6ccf71696"
      },
      "source": [
        "clf.best_score_"
      ],
      "execution_count": 14,
      "outputs": [
        {
          "output_type": "execute_result",
          "data": {
            "text/plain": [
              "0.9680148841274778"
            ]
          },
          "metadata": {},
          "execution_count": 14
        }
      ]
    }
  ]
}