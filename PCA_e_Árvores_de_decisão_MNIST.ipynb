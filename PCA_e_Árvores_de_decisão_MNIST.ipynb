{
  "nbformat": 4,
  "nbformat_minor": 0,
  "metadata": {
    "colab": {
      "provenance": [],
      "include_colab_link": true
    },
    "kernelspec": {
      "name": "python3",
      "display_name": "Python 3"
    }
  },
  "cells": [
    {
      "cell_type": "markdown",
      "metadata": {
        "id": "view-in-github",
        "colab_type": "text"
      },
      "source": [
        "<a href=\"https://colab.research.google.com/github/GabrielaSchmitt/Data-Science-studies/blob/main/PCA_e_%C3%81rvores_de_decis%C3%A3o_MNIST.ipynb\" target=\"_parent\"><img src=\"https://colab.research.google.com/assets/colab-badge.svg\" alt=\"Open In Colab\"/></a>"
      ]
    },
    {
      "cell_type": "code",
      "metadata": {
        "id": "dR7CLBwx06B5"
      },
      "source": [
        "import matplotlib.pyplot as plt\n",
        "from sklearn import datasets"
      ],
      "execution_count": 1,
      "outputs": []
    },
    {
      "cell_type": "code",
      "metadata": {
        "id": "1CH6ENHW1BFR"
      },
      "source": [
        "digits = datasets.load_digits()"
      ],
      "execution_count": 2,
      "outputs": []
    },
    {
      "cell_type": "code",
      "metadata": {
        "id": "ZghLv9eS54-C"
      },
      "source": [
        "X, y = digits.data, digits.target"
      ],
      "execution_count": 3,
      "outputs": []
    },
    {
      "cell_type": "code",
      "metadata": {
        "id": "0CYPBuDS1Hl0"
      },
      "source": [
        "from sklearn.model_selection import train_test_split\n",
        "from sklearn.tree import DecisionTreeClassifier\n",
        "from sklearn.decomposition import PCA\n",
        "from sklearn import metrics\n",
        "from tqdm import tqdm"
      ],
      "execution_count": 4,
      "outputs": []
    },
    {
      "cell_type": "code",
      "metadata": {
        "id": "bUjTFJ06s-EO",
        "colab": {
          "base_uri": "https://localhost:8080/"
        },
        "outputId": "574f3280-0b13-4036-c0b5-e1567e30e1d0"
      },
      "source": [
        "acuracias = {}\n",
        "resultados = {}\n",
        "variances = {}\n",
        "\n",
        "for c in tqdm(range(1, 30)):\n",
        "  pca = PCA(n_components=c)\n",
        "  Xpca = pca.fit_transform(X)\n",
        "  variances[c] = sum(pca.explained_variance_ratio_)\n",
        "  X_train, X_test, y_train, y_test = train_test_split(Xpca, y, test_size=0.3, random_state=1234)\n",
        "  clf = DecisionTreeClassifier(max_depth=10)\n",
        "  clf.fit(X_train, y_train)\n",
        "  y_pred = clf.predict(X_test)\n",
        "  resultados[c] = y_pred\n",
        "  accuracy = metrics.accuracy_score(y_test, y_pred)\n",
        "  acuracias[c] = accuracy * 100"
      ],
      "execution_count": 5,
      "outputs": [
        {
          "output_type": "stream",
          "name": "stderr",
          "text": [
            "100%|██████████| 29/29 [00:02<00:00,  9.84it/s]\n"
          ]
        }
      ]
    },
    {
      "cell_type": "code",
      "metadata": {
        "id": "rwYqvC43RaU6",
        "colab": {
          "base_uri": "https://localhost:8080/",
          "height": 515
        },
        "outputId": "0fd69136-b317-4693-e1d1-076af03c0b37"
      },
      "source": [
        "plt.figure(figsize=(10, 8))\n",
        "plt.plot(list(acuracias.keys()), list(acuracias.values()))\n",
        "plt.title('MNIST - Classificação com PCA e Árvores de Decisão')\n",
        "plt.xlabel('Número de componentes principais')\n",
        "plt.ylabel('Acurácia (%)')\n",
        "plt.show()"
      ],
      "execution_count": 6,
      "outputs": [
        {
          "output_type": "display_data",
          "data": {
            "text/plain": [
              "<Figure size 720x576 with 1 Axes>"
            ],
            "image/png": "[encoded data removed]"
          },
          "metadata": {
            "needs_background": "light"
          }
        }
      ]
    },
    {
      "cell_type": "code",
      "metadata": {
        "colab": {
          "base_uri": "https://localhost:8080/"
        },
        "id": "DirgXALn6R3z",
        "outputId": "336639dd-9664-4a0a-c932-2b3d393f36ed"
      },
      "source": [
        "from sklearn.metrics import confusion_matrix, accuracy_score\n",
        "\n",
        "confusion_matrix(y_test, resultados[11])"
      ],
      "execution_count": 7,
      "outputs": [
        {
          "output_type": "execute_result",
          "data": {
            "text/plain": [
              "array([[45,  0,  0,  0,  1,  0,  1,  0,  0,  0],\n",
              "       [ 0, 51,  0,  1,  0,  0,  1,  0,  3,  0],\n",
              "       [ 0,  1, 48,  2,  0,  0,  0,  0,  1,  2],\n",
              "       [ 0,  0,  0, 52,  0,  0,  0,  0,  1,  3],\n",
              "       [ 1,  1,  0,  0, 61,  0,  2,  1,  0,  0],\n",
              "       [ 1,  0,  0,  4,  1, 52,  0,  0,  2,  1],\n",
              "       [ 1,  1,  0,  0,  0,  0, 49,  0,  1,  0],\n",
              "       [ 0,  0,  0,  0,  2,  0,  0, 39,  9,  0],\n",
              "       [ 0,  5,  2,  0,  0,  0,  0,  0, 38,  2],\n",
              "       [ 1,  1,  1,  2,  1,  2,  0,  1,  7, 35]])"
            ]
          },
          "metadata": {},
          "execution_count": 7
        }
      ]
    },
    {
      "cell_type": "code",
      "metadata": {
        "id": "P20f6-qJ7SxF",
        "colab": {
          "base_uri": "https://localhost:8080/"
        },
        "outputId": "e7446ae3-560e-4640-dfd8-0b1b7ff60053"
      },
      "source": [
        "accuracy_score(y_test, resultados[11])"
      ],
      "execution_count": 8,
      "outputs": [
        {
          "output_type": "execute_result",
          "data": {
            "text/plain": [
              "0.8703703703703703"
            ]
          },
          "metadata": {},
          "execution_count": 8
        }
      ]
    },
    {
      "cell_type": "code",
      "metadata": {
        "id": "fzvha16Svg21",
        "outputId": "ac4c8297-a35f-4b16-f75f-e7b281434109",
        "colab": {
          "base_uri": "https://localhost:8080/",
          "height": 282
        }
      },
      "source": [
        "plt.plot(list(variances.keys()), list(variances.values()))"
      ],
      "execution_count": 9,
      "outputs": [
        {
          "output_type": "execute_result",
          "data": {
            "text/plain": [
              "[<matplotlib.lines.Line2D at 0x7f8d6492a520>]"
            ]
          },
          "metadata": {},
          "execution_count": 9
        },
        {
          "output_type": "display_data",
          "data": {
            "text/plain": [
              "<Figure size 432x288 with 1 Axes>"
            ],
            "image/png": "[encoded data removed]"
          },
          "metadata": {
            "needs_background": "light"
          }
        }
      ]
    }
  ]
}